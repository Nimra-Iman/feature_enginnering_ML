{
 "cells": [
  {
   "cell_type": "markdown",
   "id": "6992676e-0461-474e-befc-b6ac13c957f1",
   "metadata": {},
   "source": [
    "<h1> types of variables and datatypes in ML</h1>"
   ]
  },
  {
   "cell_type": "code",
   "execution_count": null,
   "id": "51c158a8-b13b-4828-bae9-31455daae6ae",
   "metadata": {},
   "outputs": [],
   "source": [
    "# Datatypes of ML and python are different from each other.\n",
    "\n",
    "Variables in dataset are of types such as:  NUMERICAL, CATAGORICAL, DATE AND TIME, MIXED.\n",
    "                                                                                 \n",
    "* NUMERICAL data:  It can be in int (e.g: 2,4,-5,-3 etc) or float (e.g: 2.5,6.7, -4.5, 3.0 etc),\n",
    "--------------   NUMERICAL DATA CAN BE OF 2 TYPES :\n",
    "                    1- DISCRETE DATA: Vo int type ka data jo khud ko repeat krta rehta h , e.g: if i say k 1 s 5 tak \n",
    "                                        yani 1,2,3,4,5,3,1,3,2,1,3,1,5,5,2,4,2,5,1,2,1 etc, yani yhi fixes numbers hn jo\n",
    "                                        bar bar khud ko repeat kr rhy\n",
    "                    2- Continuos data: vo float type ka data e.g if i say k 1 s 5 tak to is m 1.1,1.3,1.3,4.9,3.2 etc.\n",
    "\n",
    "* CATAGORICAL data:  is m hamesha string type ka data ata h, IT IS ALSO CALLED OBJECT TYPE DATA\n",
    "-------------------   It is divided into two types: NOMINAL AND ORDINAL (they are very important for handeling missing values)\n",
    "                        1- NOMINAL: vo data jis k ander koi order na ho e.g: column of programmin languages: html, c++, java, python etc\n",
    "                        2- ordinal data: data having some order e.g: dress size is in : extra small, small, medum, large, X-large, XX-large etc etc.\n",
    "\n",
    "* DATE AND TIME:     column m ya to just data ya just time ya both\n",
    "---------------\n",
    "\n",
    "* MIXED variable:     data having both string and int values, e.g:  id(AB101 etc), 3+ is also a mixed data etc etc                          \n",
    " ----------------                           "
   ]
  }
 ],
 "metadata": {
  "kernelspec": {
   "display_name": "Python 3 (ipykernel)",
   "language": "python",
   "name": "python3"
  },
  "language_info": {
   "codemirror_mode": {
    "name": "ipython",
    "version": 3
   },
   "file_extension": ".py",
   "mimetype": "text/x-python",
   "name": "python",
   "nbconvert_exporter": "python",
   "pygments_lexer": "ipython3",
   "version": "3.12.2"
  }
 },
 "nbformat": 4,
 "nbformat_minor": 5
}
